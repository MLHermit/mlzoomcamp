{
 "cells": [
  {
   "cell_type": "code",
   "execution_count": 6,
   "id": "e474ac48",
   "metadata": {},
   "outputs": [],
   "source": [
    "import requests"
   ]
  },
  {
   "cell_type": "code",
   "execution_count": 14,
   "id": "f741ea2e",
   "metadata": {},
   "outputs": [],
   "source": [
    "url = \"http://localhost:9696/mod5_deployment\"\n",
    "client = {\n",
    "    \"lead_source\": \"organic_search\",\n",
    "    \"number_of_courses_viewed\": 4,\n",
    "    \"annual_income\": 80304.0}"
   ]
  },
  {
   "cell_type": "code",
   "execution_count": 15,
   "id": "9565d584",
   "metadata": {},
   "outputs": [
    {
     "data": {
      "text/plain": [
       "{'0.46595827161987247': 0.5340417283801275}"
      ]
     },
     "execution_count": 15,
     "metadata": {},
     "output_type": "execute_result"
    }
   ],
   "source": [
    "requests.post(url, json=client).json()"
   ]
  },
  {
   "cell_type": "code",
   "execution_count": null,
   "id": "f22474be",
   "metadata": {},
   "outputs": [],
   "source": [
    "#data = [{\"lead_source\": \"referral\", \"industry\": \"education\", \"employment_status\": \"unemployed\", \"location\": \"europe\"}, {\"lead_source\":\"paid_ads\", \"industry\":\"other\", \"employment_status\":\"self_employed\", \"location\":\"north_america\"}]"
   ]
  },
  {
   "cell_type": "code",
   "execution_count": null,
   "id": "cabec0c1",
   "metadata": {},
   "outputs": [
    {
     "data": {
      "text/plain": [
       "{'error': \"'method' object is not iterable\"}"
      ]
     },
     "execution_count": 35,
     "metadata": {},
     "output_type": "execute_result"
    }
   ],
   "source": [
    "#requests.post(url, json=data).json()"
   ]
  },
  {
   "cell_type": "code",
   "execution_count": null,
   "id": "895f7054",
   "metadata": {},
   "outputs": [],
   "source": []
  }
 ],
 "metadata": {
  "kernelspec": {
   "display_name": "elevvo-venv",
   "language": "python",
   "name": "python3"
  },
  "language_info": {
   "codemirror_mode": {
    "name": "ipython",
    "version": 3
   },
   "file_extension": ".py",
   "mimetype": "text/x-python",
   "name": "python",
   "nbconvert_exporter": "python",
   "pygments_lexer": "ipython3",
   "version": "3.13.9"
  }
 },
 "nbformat": 4,
 "nbformat_minor": 5
}
