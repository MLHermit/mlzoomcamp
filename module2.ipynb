{
 "cells": [
  {
   "cell_type": "code",
   "execution_count": 1,
   "id": "19181a3c",
   "metadata": {},
   "outputs": [],
   "source": [
    "import pandas as pd\n",
    "import numpy as np\n",
    "import seaborn as sns\n",
    "import matplotlib.pyplot as plt\n",
    "import requests"
   ]
  },
  {
   "cell_type": "code",
   "execution_count": 2,
   "id": "94efa00f",
   "metadata": {},
   "outputs": [],
   "source": [
    "#url = 'https://raw.githubusercontent.com/alexeygrigorev/datasets/master/car_fuel_efficiency.csv\n",
    "#response = requests.get(url)\n",
    "#print(response.status_code)  # Should print 200 if the request was successful\n",
    "#with open(r'C:\\Users\\Abdullahi Mujaheed\\Desktop\\mlzoom\\car_data.csv', 'wb') as file:\n",
    "   # file.write(response.content)'''"
   ]
  },
  {
   "cell_type": "code",
   "execution_count": 3,
   "id": "e8b1c233",
   "metadata": {},
   "outputs": [],
   "source": [
    "def load_data(file_path):\n",
    "    df = pd.read_csv(file_path)\n",
    "    df = df[['engine_displacement','horsepower','vehicle_weight','model_year','fuel_efficiency_mpg']]\n",
    "    return df"
   ]
  },
  {
   "cell_type": "code",
   "execution_count": 4,
   "id": "4c7caebd",
   "metadata": {},
   "outputs": [
    {
     "data": {
      "text/plain": [
       "Index(['engine_displacement', 'horsepower', 'vehicle_weight', 'model_year',\n",
       "       'fuel_efficiency_mpg'],\n",
       "      dtype='object')"
      ]
     },
     "execution_count": 4,
     "metadata": {},
     "output_type": "execute_result"
    }
   ],
   "source": [
    "data = load_data(r'C:\\Users\\Abdullahi Mujaheed\\Desktop\\mlzoom\\car_data.csv')\n",
    "data.columns"
   ]
  },
  {
   "cell_type": "code",
   "execution_count": 5,
   "id": "838c7e91",
   "metadata": {},
   "outputs": [
    {
     "data": {
      "text/plain": [
       "<Axes: xlabel='fuel_efficiency_mpg', ylabel='Count'>"
      ]
     },
     "execution_count": 5,
     "metadata": {},
     "output_type": "execute_result"
    },
    {
     "data": {
      "image/png": "[encoded data removed]",
      "text/plain": [
       "<Figure size 640x480 with 1 Axes>"
      ]
     },
     "metadata": {},
     "output_type": "display_data"
    }
   ],
   "source": [
    "sns.histplot(data['fuel_efficiency_mpg'], bins= 30, kde = True)"
   ]
  },
  {
   "cell_type": "code",
   "execution_count": 7,
   "id": "d75737ac",
   "metadata": {},
   "outputs": [],
   "source": [
    "data['fuel_efficiency_mpg'] = np.log1p(data['fuel_efficiency_mpg'])"
   ]
  },
  {
   "cell_type": "code",
   "execution_count": null,
   "id": "ba35efa3",
   "metadata": {},
   "outputs": [],
   "source": [
    "sns.histplot(data['fuel_efficiency_mpg'], bins= 30, kde = True)"
   ]
  },
  {
   "cell_type": "markdown",
   "id": "f5072f6c",
   "metadata": {},
   "source": [
    "the fuel efficiency column is uniformly distributed"
   ]
  },
  {
   "cell_type": "code",
   "execution_count": null,
   "id": "14a9bf10",
   "metadata": {},
   "outputs": [],
   "source": [
    "data.isna().sum()"
   ]
  },
  {
   "cell_type": "markdown",
   "id": "8374d2ec",
   "metadata": {},
   "source": []
  },
  {
   "cell_type": "code",
   "execution_count": null,
   "id": "2a78a0e5",
   "metadata": {},
   "outputs": [],
   "source": [
    "print(data['horsepower'].median())"
   ]
  },
  {
   "cell_type": "code",
   "execution_count": null,
   "id": "2f48368e",
   "metadata": {},
   "outputs": [],
   "source": [
    "shuffled_data = data.sample(frac = 1, random_state = 42, ignore_index = True)\n",
    "shuffled_data"
   ]
  },
  {
   "cell_type": "code",
   "execution_count": null,
   "id": "8a9768f2",
   "metadata": {},
   "outputs": [],
   "source": [
    "train, val, test = np.split(shuffled_data, [int(0.6*len(shuffled_data)), int(.8*len(shuffled_data))])"
   ]
  },
  {
   "cell_type": "code",
   "execution_count": null,
   "id": "2606a396",
   "metadata": {},
   "outputs": [],
   "source": [
    "test"
   ]
  },
  {
   "cell_type": "code",
   "execution_count": null,
   "id": "ef840757",
   "metadata": {},
   "outputs": [],
   "source": [
    "def fillna_with_mean(df, column):\n",
    "    df[column] = df[column].fillna(df[column].mean())\n",
    "    return df"
   ]
  },
  {
   "cell_type": "code",
   "execution_count": null,
   "id": "063e8897",
   "metadata": {},
   "outputs": [],
   "source": [
    "def fillna_with_0(df, column):\n",
    "    df[column] = df[column].fillna(0)\n",
    "    return df"
   ]
  },
  {
   "cell_type": "code",
   "execution_count": null,
   "id": "35d1daaa",
   "metadata": {},
   "outputs": [],
   "source": [
    "train_0 = fillna_with_0(train, 'horsepower')\n",
    "train_0"
   ]
  },
  {
   "cell_type": "code",
   "execution_count": null,
   "id": "3e7df407",
   "metadata": {},
   "outputs": [],
   "source": [
    "train_mean = fillna_with_mean(train, 'horsepower')\n",
    "train_mean"
   ]
  },
  {
   "cell_type": "code",
   "execution_count": null,
   "id": "fbb49012",
   "metadata": {},
   "outputs": [],
   "source": [
    "y_train = train['fuel_efficiency_mpg'].values\n",
    "y_val = val['fuel_efficiency_mpg'].values\n",
    "y_test = test['fuel_efficiency_mpg'].values"
   ]
  },
  {
   "cell_type": "code",
   "execution_count": null,
   "id": "5c08c26f",
   "metadata": {},
   "outputs": [],
   "source": [
    "#del train_0['fuel_efficiency_mpg']\n",
    "#del train_mean['fuel_efficiency_mpg']\n",
    "del val['fuel_efficiency_mpg']\n",
    "del test['fuel_efficiency_mpg']"
   ]
  },
  {
   "cell_type": "code",
   "execution_count": null,
   "id": "795eaa8d",
   "metadata": {},
   "outputs": [],
   "source": [
    "train_0"
   ]
  },
  {
   "cell_type": "code",
   "execution_count": null,
   "id": "5a826fe7",
   "metadata": {},
   "outputs": [],
   "source": [
    "def train_linear_regression(X, y):\n",
    "    ones = np.ones(X.shape[0])\n",
    "    X = np.column_stack([ones, X])\n",
    "\n",
    "    XTX = X.T.dot(X)\n",
    "    XTX_inv = np.linalg.inv(XTX)\n",
    "    w_full = XTX_inv.dot(X.T).dot(y)\n",
    "    \n",
    "    return w_full[0], w_full[1:]"
   ]
  },
  {
   "cell_type": "code",
   "execution_count": null,
   "id": "7e44fc4f",
   "metadata": {},
   "outputs": [],
   "source": [
    "params0_train = train_linear_regression(train_0.values, y_train)"
   ]
  },
  {
   "cell_type": "code",
   "execution_count": null,
   "id": "5fa2b2c0",
   "metadata": {},
   "outputs": [],
   "source": [
    "params_mean_train = train_linear_regression(train_mean.values, y_train)"
   ]
  },
  {
   "cell_type": "code",
   "execution_count": null,
   "id": "efd8f15a",
   "metadata": {},
   "outputs": [],
   "source": [
    "# Unpack weights\n",
    "intercept_0, weights_0 = params0_train\n",
    "intercept_mean, weights_mean = params_mean_train\n",
    "print(intercept_0, weights_0)\n",
    "\n",
    "print(intercept_mean, weights_mean)"
   ]
  },
  {
   "cell_type": "code",
   "execution_count": null,
   "id": "7a5cebd6",
   "metadata": {},
   "outputs": [],
   "source": [
    "val_0 = fillna_with_0(val, 'horsepower')\n",
    "val_mean = fillna_with_mean(val, 'horsepower')\n",
    "print(val_0.shape,'\\n',val_mean.shape)"
   ]
  },
  {
   "cell_type": "code",
   "execution_count": null,
   "id": "9bea31dd",
   "metadata": {},
   "outputs": [],
   "source": [
    "# Compute predictions\n",
    "val_pred_0 = intercept_0 + val_0.dot(weights_0)\n",
    "val_pred_mean = intercept_mean + val_mean.values.dot(weights_mean)\n",
    "print(val_pred_0.shape, '\\n', val_pred_mean.shape)\n",
    "print(y_val.shape)"
   ]
  },
  {
   "cell_type": "code",
   "execution_count": null,
   "id": "8b88439c",
   "metadata": {},
   "outputs": [],
   "source": [
    "# Compute RMSE\n",
    "rmse_val_0 = np.sqrt(np.mean((val_pred_0 - y_val) ** 2))\n",
    "rmse_val_mean = np.sqrt(np.mean((val_pred_mean - y_val) ** 2))\n",
    "\n",
    "print(f'the rmse of validation_0: {rmse_val_0}, \\nthe rmse of validation_mean: {rmse_val_mean}')"
   ]
  },
  {
   "cell_type": "markdown",
   "id": "f08690d7",
   "metadata": {},
   "source": [
    "regularization"
   ]
  },
  {
   "cell_type": "code",
   "execution_count": null,
   "id": "72b3aa41",
   "metadata": {},
   "outputs": [],
   "source": [
    "def train_linear_regression_reg(X, y, r=0.001):\n",
    "    ones = np.ones(X.shape[0])\n",
    "    X = np.column_stack([ones, X])\n",
    "\n",
    "    XTX = X.T.dot(X)\n",
    "    XTX = XTX + r * np.eye(XTX.shape[0])\n",
    "\n",
    "    XTX_inv = np.linalg.inv(XTX)\n",
    "    w_full = XTX_inv.dot(X.T).dot(y)\n",
    "    \n",
    "    return w_full[0], w_full[1:]"
   ]
  },
  {
   "cell_type": "code",
   "execution_count": null,
   "id": "2f92a141",
   "metadata": {},
   "outputs": [],
   "source": [
    "reg_rmse_val = []\n",
    "r = [0, 0.01, 0.1, 1, 5, 10, 100]\n",
    "for i in r:\n",
    "    w0, w_ = train_linear_regression_reg(train_0.values, y_train, i)\n",
    "    reg_val_pred_0 = (w0 + val_0.values.dot(w_))\n",
    "    reg_rmse_val_0 = np.sqrt(np.mean((reg_val_pred_0 - y_val)**2))\n",
    "    reg_rmse_val.append(reg_rmse_val_0)\n",
    "    "
   ]
  },
  {
   "cell_type": "code",
   "execution_count": null,
   "id": "8d93ddbe",
   "metadata": {},
   "outputs": [],
   "source": [
    "reg_rmse_val"
   ]
  },
  {
   "cell_type": "code",
   "execution_count": null,
   "id": "ac749565",
   "metadata": {},
   "outputs": [],
   "source": [
    "data['horsepower'] = data['horsepower'].fillna(0)\n",
    "data.isna().sum()"
   ]
  },
  {
   "cell_type": "code",
   "execution_count": null,
   "id": "32bec37d",
   "metadata": {},
   "outputs": [],
   "source": [
    "n_rmse = []\n",
    "seed = [0, 1, 2, 3, 4, 5, 6, 7, 8, 9]\n",
    "for sd in seed:\n",
    "    shuffled_data = data.sample(frac = 1, random_state = sd, ignore_index = True)\n",
    "    n_train, n_val, n_test = np.split(shuffled_data, [int(0.6*len(shuffled_data)), int(.8*len(shuffled_data))])\n",
    "    n_y_train = n_train['fuel_efficiency_mpg'].values\n",
    "    n_y_val = n_val['fuel_efficiency_mpg'].values\n",
    "    n_y_test = n_test['fuel_efficiency_mpg'].values\n",
    "    del n_train['fuel_efficiency_mpg']\n",
    "    del n_val['fuel_efficiency_mpg']\n",
    "    del n_test['fuel_efficiency_mpg']\n",
    "    bias, weight = train_linear_regression(n_train.values, n_y_train)\n",
    "    n_val_pred = bias + n_val.values.dot(weight)\n",
    "    n_val_rmse = np.sqrt(((n_val_pred - n_y_val)**2).mean())\n",
    "    n_rmse.append(n_val_rmse)\n",
    "\n",
    "std_rmse = round(np.std(n_rmse), 3)"
   ]
  },
  {
   "cell_type": "code",
   "execution_count": null,
   "id": "3876a321",
   "metadata": {},
   "outputs": [],
   "source": [
    "std_rmse"
   ]
  },
  {
   "cell_type": "code",
   "execution_count": 8,
   "id": "32b51be5",
   "metadata": {},
   "outputs": [
    {
     "data": {
      "application/vnd.microsoft.datawrangler.viewer.v0+json": {
       "columns": [
        {
         "name": "index",
         "rawType": "object",
         "type": "string"
        },
        {
         "name": "0",
         "rawType": "int64",
         "type": "integer"
        }
       ],
       "ref": "394bce48-6ed3-4634-8236-8aaa1e8a911a",
       "rows": [
        [
         "engine_displacement",
         "0"
        ],
        [
         "horsepower",
         "0"
        ],
        [
         "vehicle_weight",
         "0"
        ],
        [
         "model_year",
         "0"
        ],
        [
         "fuel_efficiency_mpg",
         "0"
        ]
       ],
       "shape": {
        "columns": 1,
        "rows": 5
       }
      },
      "text/plain": [
       "engine_displacement    0\n",
       "horsepower             0\n",
       "vehicle_weight         0\n",
       "model_year             0\n",
       "fuel_efficiency_mpg    0\n",
       "dtype: int64"
      ]
     },
     "execution_count": 8,
     "metadata": {},
     "output_type": "execute_result"
    }
   ],
   "source": [
    "data['horsepower'] = data['horsepower'].fillna(0)\n",
    "data.isna().sum()"
   ]
  },
  {
   "cell_type": "code",
   "execution_count": 9,
   "id": "1f8667aa",
   "metadata": {},
   "outputs": [
    {
     "name": "stderr",
     "output_type": "stream",
     "text": [
      "c:\\Users\\Abdullahi Mujaheed\\Desktop\\elevvo\\elevvo-bootcamp\\elevvo-venv\\Lib\\site-packages\\numpy\\_core\\fromnumeric.py:57: FutureWarning: 'DataFrame.swapaxes' is deprecated and will be removed in a future version. Please use 'DataFrame.transpose' instead.\n",
      "  return bound(*args, **kwds)\n"
     ]
    }
   ],
   "source": [
    "data = data.sample(frac=1, random_state= 9, ignore_index= True)\n",
    "f_train_val, f_test = np.split(data, [int(.8*len(data))])"
   ]
  },
  {
   "cell_type": "code",
   "execution_count": 10,
   "id": "a8b3b3dc",
   "metadata": {},
   "outputs": [
    {
     "data": {
      "application/vnd.microsoft.datawrangler.viewer.v0+json": {
       "columns": [
        {
         "name": "index",
         "rawType": "int64",
         "type": "integer"
        },
        {
         "name": "engine_displacement",
         "rawType": "int64",
         "type": "integer"
        },
        {
         "name": "horsepower",
         "rawType": "float64",
         "type": "float"
        },
        {
         "name": "vehicle_weight",
         "rawType": "float64",
         "type": "float"
        },
        {
         "name": "model_year",
         "rawType": "int64",
         "type": "integer"
        },
        {
         "name": "fuel_efficiency_mpg",
         "rawType": "float64",
         "type": "float"
        }
       ],
       "ref": "84a5992e-0c69-4ef4-aa5b-7df457ede797",
       "rows": [
        [
         "0",
         "240",
         "136.0",
         "4050.5122895707536",
         "2006",
         "1.2311652838224751"
        ],
        [
         "1",
         "190",
         "141.0",
         "3195.8669415834306",
         "2017",
         "1.3009350593446969"
        ],
        [
         "2",
         "200",
         "184.0",
         "3006.164369681861",
         "2017",
         "1.3466086489635851"
        ],
        [
         "3",
         "200",
         "0.0",
         "2947.143980322281",
         "2022",
         "1.3350307622835178"
        ],
        [
         "4",
         "250",
         "132.0",
         "3114.3719779552243",
         "2001",
         "1.3188297088688872"
        ],
        [
         "5",
         "200",
         "128.0",
         "2426.957609510563",
         "2006",
         "1.3668931079520736"
        ],
        [
         "6",
         "190",
         "128.0",
         "3080.383878241212",
         "2023",
         "1.3191864360528278"
        ],
        [
         "7",
         "130",
         "178.0",
         "3641.7441913507114",
         "2010",
         "1.2900680936240412"
        ],
        [
         "8",
         "120",
         "157.0",
         "3018.5214238379",
         "2006",
         "1.331221794624531"
        ],
        [
         "9",
         "190",
         "169.0",
         "3025.887363830009",
         "2017",
         "1.32273280842053"
        ],
        [
         "10",
         "130",
         "0.0",
         "2087.192105375307",
         "2008",
         "1.3825665296035123"
        ],
        [
         "11",
         "160",
         "167.0",
         "4026.6969339384623",
         "2011",
         "1.2377711632018134"
        ],
        [
         "12",
         "140",
         "109.0",
         "2817.206539524288",
         "2003",
         "1.3391677679094613"
        ],
        [
         "13",
         "320",
         "132.0",
         "2572.315442667493",
         "2021",
         "1.3532294346471143"
        ],
        [
         "14",
         "190",
         "165.0",
         "2035.1474698037405",
         "2005",
         "1.4040818686298808"
        ],
        [
         "15",
         "170",
         "200.0",
         "3404.582552425505",
         "2023",
         "1.2980764540520233"
        ],
        [
         "16",
         "290",
         "162.0",
         "2625.1456938074257",
         "2004",
         "1.350881306719946"
        ],
        [
         "17",
         "180",
         "160.0",
         "3499.4750052085824",
         "2013",
         "1.2927523358618485"
        ],
        [
         "18",
         "190",
         "147.0",
         "2348.797557271285",
         "2006",
         "1.3773316310170751"
        ],
        [
         "19",
         "280",
         "144.0",
         "3031.436130188313",
         "2014",
         "1.3289179232898372"
        ],
        [
         "20",
         "310",
         "132.0",
         "2121.470254292444",
         "2004",
         "1.394024272397564"
        ],
        [
         "21",
         "270",
         "127.0",
         "3289.609764827081",
         "2020",
         "1.3041434648870176"
        ],
        [
         "22",
         "200",
         "164.0",
         "3196.269981620835",
         "2020",
         "1.3162593698894636"
        ],
        [
         "23",
         "130",
         "118.0",
         "2906.2857664526878",
         "2018",
         "1.3236457743962182"
        ],
        [
         "24",
         "210",
         "143.0",
         "2441.496241864477",
         "2003",
         "1.3604857709094473"
        ],
        [
         "25",
         "140",
         "225.0",
         "3846.125343602924",
         "2020",
         "1.245282752980903"
        ],
        [
         "26",
         "190",
         "148.0",
         "3323.819061215165",
         "2005",
         "1.2962731270099541"
        ],
        [
         "27",
         "160",
         "128.0",
         "3284.570709573435",
         "2011",
         "1.2886558741270342"
        ],
        [
         "28",
         "230",
         "184.0",
         "3068.942278501571",
         "2010",
         "1.3380675946518779"
        ],
        [
         "29",
         "150",
         "149.0",
         "2367.817227200094",
         "2003",
         "1.3751217648548515"
        ],
        [
         "30",
         "190",
         "125.0",
         "2876.552704724119",
         "2001",
         "1.329455303632261"
        ],
        [
         "31",
         "260",
         "125.0",
         "2642.3241801041404",
         "2012",
         "1.34492696754008"
        ],
        [
         "32",
         "230",
         "157.0",
         "2439.764272985089",
         "2006",
         "1.3704610691930608"
        ],
        [
         "33",
         "210",
         "161.0",
         "3379.799085549688",
         "2019",
         "1.3001174040583834"
        ],
        [
         "34",
         "150",
         "155.0",
         "2524.894899767022",
         "2018",
         "1.3716676526492422"
        ],
        [
         "35",
         "200",
         "0.0",
         "2619.896609889136",
         "2017",
         "1.3661284932421407"
        ],
        [
         "36",
         "160",
         "0.0",
         "2981.866055248001",
         "2019",
         "1.3328128429582105"
        ],
        [
         "37",
         "200",
         "152.0",
         "3500.1607747454104",
         "2017",
         "1.2841107249247925"
        ],
        [
         "38",
         "200",
         "148.0",
         "2134.556711874116",
         "2017",
         "1.3877844174719718"
        ],
        [
         "39",
         "220",
         "163.0",
         "2596.1813828820345",
         "2000",
         "1.3560133486549024"
        ],
        [
         "40",
         "230",
         "124.0",
         "3381.2245794254923",
         "2000",
         "1.284057021800039"
        ],
        [
         "41",
         "100",
         "145.0",
         "2437.3728394600894",
         "2008",
         "1.3695165774613534"
        ],
        [
         "42",
         "230",
         "103.0",
         "2496.5486592559587",
         "2019",
         "1.3536953404221652"
        ],
        [
         "43",
         "260",
         "176.0",
         "3198.040750080437",
         "2006",
         "1.306872873363041"
        ],
        [
         "44",
         "160",
         "155.0",
         "2773.265064356561",
         "2015",
         "1.3445817487967924"
        ],
        [
         "45",
         "270",
         "128.0",
         "2993.6251230414696",
         "2015",
         "1.335456396491888"
        ],
        [
         "46",
         "190",
         "190.0",
         "3494.502842330031",
         "2011",
         "1.290097267408697"
        ],
        [
         "47",
         "190",
         "148.0",
         "2801.096882337446",
         "2018",
         "1.3549211961089718"
        ],
        [
         "48",
         "210",
         "209.0",
         "3014.2516226884645",
         "2002",
         "1.3431672536330967"
        ],
        [
         "49",
         "210",
         "141.0",
         "3631.288732117183",
         "2010",
         "1.2721229912113639"
        ]
       ],
       "shape": {
        "columns": 5,
        "rows": 9704
       }
      },
      "text/html": [
       "<div>\n",
       "<style scoped>\n",
       "    .dataframe tbody tr th:only-of-type {\n",
       "        vertical-align: middle;\n",
       "    }\n",
       "\n",
       "    .dataframe tbody tr th {\n",
       "        vertical-align: top;\n",
       "    }\n",
       "\n",
       "    .dataframe thead th {\n",
       "        text-align: right;\n",
       "    }\n",
       "</style>\n",
       "<table border=\"1\" class=\"dataframe\">\n",
       "  <thead>\n",
       "    <tr style=\"text-align: right;\">\n",
       "      <th></th>\n",
       "      <th>engine_displacement</th>\n",
       "      <th>horsepower</th>\n",
       "      <th>vehicle_weight</th>\n",
       "      <th>model_year</th>\n",
       "      <th>fuel_efficiency_mpg</th>\n",
       "    </tr>\n",
       "  </thead>\n",
       "  <tbody>\n",
       "    <tr>\n",
       "      <th>0</th>\n",
       "      <td>240</td>\n",
       "      <td>136.0</td>\n",
       "      <td>4050.512290</td>\n",
       "      <td>2006</td>\n",
       "      <td>1.231165</td>\n",
       "    </tr>\n",
       "    <tr>\n",
       "      <th>1</th>\n",
       "      <td>190</td>\n",
       "      <td>141.0</td>\n",
       "      <td>3195.866942</td>\n",
       "      <td>2017</td>\n",
       "      <td>1.300935</td>\n",
       "    </tr>\n",
       "    <tr>\n",
       "      <th>2</th>\n",
       "      <td>200</td>\n",
       "      <td>184.0</td>\n",
       "      <td>3006.164370</td>\n",
       "      <td>2017</td>\n",
       "      <td>1.346609</td>\n",
       "    </tr>\n",
       "    <tr>\n",
       "      <th>3</th>\n",
       "      <td>200</td>\n",
       "      <td>0.0</td>\n",
       "      <td>2947.143980</td>\n",
       "      <td>2022</td>\n",
       "      <td>1.335031</td>\n",
       "    </tr>\n",
       "    <tr>\n",
       "      <th>4</th>\n",
       "      <td>250</td>\n",
       "      <td>132.0</td>\n",
       "      <td>3114.371978</td>\n",
       "      <td>2001</td>\n",
       "      <td>1.318830</td>\n",
       "    </tr>\n",
       "    <tr>\n",
       "      <th>...</th>\n",
       "      <td>...</td>\n",
       "      <td>...</td>\n",
       "      <td>...</td>\n",
       "      <td>...</td>\n",
       "      <td>...</td>\n",
       "    </tr>\n",
       "    <tr>\n",
       "      <th>9699</th>\n",
       "      <td>130</td>\n",
       "      <td>190.0</td>\n",
       "      <td>2929.265698</td>\n",
       "      <td>2018</td>\n",
       "      <td>1.349885</td>\n",
       "    </tr>\n",
       "    <tr>\n",
       "      <th>9700</th>\n",
       "      <td>270</td>\n",
       "      <td>127.0</td>\n",
       "      <td>3489.985764</td>\n",
       "      <td>2017</td>\n",
       "      <td>1.281741</td>\n",
       "    </tr>\n",
       "    <tr>\n",
       "      <th>9701</th>\n",
       "      <td>240</td>\n",
       "      <td>177.0</td>\n",
       "      <td>3348.840052</td>\n",
       "      <td>2010</td>\n",
       "      <td>1.296493</td>\n",
       "    </tr>\n",
       "    <tr>\n",
       "      <th>9702</th>\n",
       "      <td>250</td>\n",
       "      <td>150.0</td>\n",
       "      <td>2985.704630</td>\n",
       "      <td>2022</td>\n",
       "      <td>1.331298</td>\n",
       "    </tr>\n",
       "    <tr>\n",
       "      <th>9703</th>\n",
       "      <td>230</td>\n",
       "      <td>192.0</td>\n",
       "      <td>3124.473642</td>\n",
       "      <td>2014</td>\n",
       "      <td>1.319465</td>\n",
       "    </tr>\n",
       "  </tbody>\n",
       "</table>\n",
       "<p>9704 rows × 5 columns</p>\n",
       "</div>"
      ],
      "text/plain": [
       "      engine_displacement  horsepower  vehicle_weight  model_year  \\\n",
       "0                     240       136.0     4050.512290        2006   \n",
       "1                     190       141.0     3195.866942        2017   \n",
       "2                     200       184.0     3006.164370        2017   \n",
       "3                     200         0.0     2947.143980        2022   \n",
       "4                     250       132.0     3114.371978        2001   \n",
       "...                   ...         ...             ...         ...   \n",
       "9699                  130       190.0     2929.265698        2018   \n",
       "9700                  270       127.0     3489.985764        2017   \n",
       "9701                  240       177.0     3348.840052        2010   \n",
       "9702                  250       150.0     2985.704630        2022   \n",
       "9703                  230       192.0     3124.473642        2014   \n",
       "\n",
       "      fuel_efficiency_mpg  \n",
       "0                1.231165  \n",
       "1                1.300935  \n",
       "2                1.346609  \n",
       "3                1.335031  \n",
       "4                1.318830  \n",
       "...                   ...  \n",
       "9699             1.349885  \n",
       "9700             1.281741  \n",
       "9701             1.296493  \n",
       "9702             1.331298  \n",
       "9703             1.319465  \n",
       "\n",
       "[9704 rows x 5 columns]"
      ]
     },
     "execution_count": 10,
     "metadata": {},
     "output_type": "execute_result"
    }
   ],
   "source": [
    "data"
   ]
  },
  {
   "cell_type": "code",
   "execution_count": 13,
   "id": "4f511452",
   "metadata": {},
   "outputs": [
    {
     "ename": "KeyError",
     "evalue": "'fuel_efficiency_mpg'",
     "output_type": "error",
     "traceback": [
      "\u001b[31m---------------------------------------------------------------------------\u001b[39m",
      "\u001b[31mKeyError\u001b[39m                                  Traceback (most recent call last)",
      "\u001b[36mFile \u001b[39m\u001b[32mc:\\Users\\Abdullahi Mujaheed\\Desktop\\elevvo\\elevvo-bootcamp\\elevvo-venv\\Lib\\site-packages\\pandas\\core\\indexes\\base.py:3812\u001b[39m, in \u001b[36mIndex.get_loc\u001b[39m\u001b[34m(self, key)\u001b[39m\n\u001b[32m   3811\u001b[39m \u001b[38;5;28;01mtry\u001b[39;00m:\n\u001b[32m-> \u001b[39m\u001b[32m3812\u001b[39m     \u001b[38;5;28;01mreturn\u001b[39;00m \u001b[38;5;28;43mself\u001b[39;49m\u001b[43m.\u001b[49m\u001b[43m_engine\u001b[49m\u001b[43m.\u001b[49m\u001b[43mget_loc\u001b[49m\u001b[43m(\u001b[49m\u001b[43mcasted_key\u001b[49m\u001b[43m)\u001b[49m\n\u001b[32m   3813\u001b[39m \u001b[38;5;28;01mexcept\u001b[39;00m \u001b[38;5;167;01mKeyError\u001b[39;00m \u001b[38;5;28;01mas\u001b[39;00m err:\n",
      "\u001b[36mFile \u001b[39m\u001b[32mpandas/_libs/index.pyx:167\u001b[39m, in \u001b[36mpandas._libs.index.IndexEngine.get_loc\u001b[39m\u001b[34m()\u001b[39m\n",
      "\u001b[36mFile \u001b[39m\u001b[32mpandas/_libs/index.pyx:196\u001b[39m, in \u001b[36mpandas._libs.index.IndexEngine.get_loc\u001b[39m\u001b[34m()\u001b[39m\n",
      "\u001b[36mFile \u001b[39m\u001b[32mpandas/_libs/hashtable_class_helper.pxi:7088\u001b[39m, in \u001b[36mpandas._libs.hashtable.PyObjectHashTable.get_item\u001b[39m\u001b[34m()\u001b[39m\n",
      "\u001b[36mFile \u001b[39m\u001b[32mpandas/_libs/hashtable_class_helper.pxi:7096\u001b[39m, in \u001b[36mpandas._libs.hashtable.PyObjectHashTable.get_item\u001b[39m\u001b[34m()\u001b[39m\n",
      "\u001b[31mKeyError\u001b[39m: 'fuel_efficiency_mpg'",
      "\nThe above exception was the direct cause of the following exception:\n",
      "\u001b[31mKeyError\u001b[39m                                  Traceback (most recent call last)",
      "\u001b[36mCell\u001b[39m\u001b[36m \u001b[39m\u001b[32mIn[13]\u001b[39m\u001b[32m, line 1\u001b[39m\n\u001b[32m----> \u001b[39m\u001b[32m1\u001b[39m y_train_val = \u001b[43mf_train_val\u001b[49m\u001b[43m[\u001b[49m\u001b[33;43m'\u001b[39;49m\u001b[33;43mfuel_efficiency_mpg\u001b[39;49m\u001b[33;43m'\u001b[39;49m\u001b[43m]\u001b[49m.values\n\u001b[32m      2\u001b[39m f_test = f_test[\u001b[33m'\u001b[39m\u001b[33mfuel_efficiency_mpg\u001b[39m\u001b[33m'\u001b[39m].values\n\u001b[32m      3\u001b[39m f_train_val.drop([\u001b[33m'\u001b[39m\u001b[33mfuel_efficiency_mpg\u001b[39m\u001b[33m'\u001b[39m])\n",
      "\u001b[36mFile \u001b[39m\u001b[32mc:\\Users\\Abdullahi Mujaheed\\Desktop\\elevvo\\elevvo-bootcamp\\elevvo-venv\\Lib\\site-packages\\pandas\\core\\frame.py:4107\u001b[39m, in \u001b[36mDataFrame.__getitem__\u001b[39m\u001b[34m(self, key)\u001b[39m\n\u001b[32m   4105\u001b[39m \u001b[38;5;28;01mif\u001b[39;00m \u001b[38;5;28mself\u001b[39m.columns.nlevels > \u001b[32m1\u001b[39m:\n\u001b[32m   4106\u001b[39m     \u001b[38;5;28;01mreturn\u001b[39;00m \u001b[38;5;28mself\u001b[39m._getitem_multilevel(key)\n\u001b[32m-> \u001b[39m\u001b[32m4107\u001b[39m indexer = \u001b[38;5;28;43mself\u001b[39;49m\u001b[43m.\u001b[49m\u001b[43mcolumns\u001b[49m\u001b[43m.\u001b[49m\u001b[43mget_loc\u001b[49m\u001b[43m(\u001b[49m\u001b[43mkey\u001b[49m\u001b[43m)\u001b[49m\n\u001b[32m   4108\u001b[39m \u001b[38;5;28;01mif\u001b[39;00m is_integer(indexer):\n\u001b[32m   4109\u001b[39m     indexer = [indexer]\n",
      "\u001b[36mFile \u001b[39m\u001b[32mc:\\Users\\Abdullahi Mujaheed\\Desktop\\elevvo\\elevvo-bootcamp\\elevvo-venv\\Lib\\site-packages\\pandas\\core\\indexes\\base.py:3819\u001b[39m, in \u001b[36mIndex.get_loc\u001b[39m\u001b[34m(self, key)\u001b[39m\n\u001b[32m   3814\u001b[39m     \u001b[38;5;28;01mif\u001b[39;00m \u001b[38;5;28misinstance\u001b[39m(casted_key, \u001b[38;5;28mslice\u001b[39m) \u001b[38;5;129;01mor\u001b[39;00m (\n\u001b[32m   3815\u001b[39m         \u001b[38;5;28misinstance\u001b[39m(casted_key, abc.Iterable)\n\u001b[32m   3816\u001b[39m         \u001b[38;5;129;01mand\u001b[39;00m \u001b[38;5;28many\u001b[39m(\u001b[38;5;28misinstance\u001b[39m(x, \u001b[38;5;28mslice\u001b[39m) \u001b[38;5;28;01mfor\u001b[39;00m x \u001b[38;5;129;01min\u001b[39;00m casted_key)\n\u001b[32m   3817\u001b[39m     ):\n\u001b[32m   3818\u001b[39m         \u001b[38;5;28;01mraise\u001b[39;00m InvalidIndexError(key)\n\u001b[32m-> \u001b[39m\u001b[32m3819\u001b[39m     \u001b[38;5;28;01mraise\u001b[39;00m \u001b[38;5;167;01mKeyError\u001b[39;00m(key) \u001b[38;5;28;01mfrom\u001b[39;00m\u001b[38;5;250m \u001b[39m\u001b[34;01merr\u001b[39;00m\n\u001b[32m   3820\u001b[39m \u001b[38;5;28;01mexcept\u001b[39;00m \u001b[38;5;167;01mTypeError\u001b[39;00m:\n\u001b[32m   3821\u001b[39m     \u001b[38;5;66;03m# If we have a listlike key, _check_indexing_error will raise\u001b[39;00m\n\u001b[32m   3822\u001b[39m     \u001b[38;5;66;03m#  InvalidIndexError. Otherwise we fall through and re-raise\u001b[39;00m\n\u001b[32m   3823\u001b[39m     \u001b[38;5;66;03m#  the TypeError.\u001b[39;00m\n\u001b[32m   3824\u001b[39m     \u001b[38;5;28mself\u001b[39m._check_indexing_error(key)\n",
      "\u001b[31mKeyError\u001b[39m: 'fuel_efficiency_mpg'"
     ]
    }
   ],
   "source": [
    "y_train_val = f_train_val['fuel_efficiency_mpg'].values\n",
    "f_test = f_test['fuel_efficiency_mpg'].values\n",
    "f_train_val.drop(['fuel_efficiency_mpg'])\n",
    "f_test.drop(['fuel_efficiency_mpg'])"
   ]
  },
  {
   "cell_type": "code",
   "execution_count": null,
   "id": "37f7f3b6",
   "metadata": {},
   "outputs": [],
   "source": []
  }
 ],
 "metadata": {
  "kernelspec": {
   "display_name": "elevvo-venv",
   "language": "python",
   "name": "python3"
  },
  "language_info": {
   "codemirror_mode": {
    "name": "ipython",
    "version": 3
   },
   "file_extension": ".py",
   "mimetype": "text/x-python",
   "name": "python",
   "nbconvert_exporter": "python",
   "pygments_lexer": "ipython3",
   "version": "3.13.7"
  }
 },
 "nbformat": 4,
 "nbformat_minor": 5
}
