{
 "cells": [
  {
   "cell_type": "code",
   "execution_count": 1,
   "id": "e474ac48",
   "metadata": {},
   "outputs": [],
   "source": [
    "import requests"
   ]
  },
  {
   "cell_type": "code",
   "execution_count": null,
   "id": "f741ea2e",
   "metadata": {},
   "outputs": [],
   "source": [
    "url = \"http://127.0.0.1:9999/deployment\""
   ]
  },
  {
   "cell_type": "code",
   "execution_count": 34,
   "id": "f22474be",
   "metadata": {},
   "outputs": [],
   "source": [
    "data = [{\"lead_source\": \"referral\", \"industry\": \"education\", \"employment_status\": \"unemployed\", \"location\": \"europe\"}, {\"lead_source\":\"paid_ads\", \"industry\":\"other\", \"employment_status\":\"self_employed\", \"location\":\"north_america\"}]"
   ]
  },
  {
   "cell_type": "code",
   "execution_count": 35,
   "id": "cabec0c1",
   "metadata": {},
   "outputs": [
    {
     "data": {
      "text/plain": [
       "{'error': \"'method' object is not iterable\"}"
      ]
     },
     "execution_count": 35,
     "metadata": {},
     "output_type": "execute_result"
    }
   ],
   "source": [
    "requests.post(url, json=data).json()"
   ]
  },
  {
   "cell_type": "code",
   "execution_count": null,
   "id": "895f7054",
   "metadata": {},
   "outputs": [],
   "source": []
  }
 ],
 "metadata": {
  "kernelspec": {
   "display_name": "elevvo-venv",
   "language": "python",
   "name": "python3"
  },
  "language_info": {
   "codemirror_mode": {
    "name": "ipython",
    "version": 3
   },
   "file_extension": ".py",
   "mimetype": "text/x-python",
   "name": "python",
   "nbconvert_exporter": "python",
   "pygments_lexer": "ipython3",
   "version": "3.13.9"
  }
 },
 "nbformat": 4,
 "nbformat_minor": 5
}
